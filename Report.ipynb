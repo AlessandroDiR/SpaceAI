{
 "cells": [
  {
   "cell_type": "markdown",
   "metadata": {},
   "source": [
    "# Report di addestramento e valutazione del modello"
   ]
  },
  {
   "cell_type": "markdown",
   "metadata": {},
   "source": [
    "## Iperparametri\n",
    "```Python\n",
    "BATCH_SIZE = 20\n",
    "EPOCHS = 15\n",
    "SHUFFLE = False\n",
    "EMB_DIM = 150\n",
    "HID_DIM = 300\n",
    "N_LAYERS = 2\n",
    "DROPOUT = 0.5\n",
    "TRAIN = True\n",
    "LR = 0.001\n",
    "```"
   ]
  },
  {
   "cell_type": "markdown",
   "metadata": {},
   "source": [
    "## Train & Validation"
   ]
  },
  {
   "cell_type": "markdown",
   "metadata": {},
   "source": [
    "### Epoch 1-2"
   ]
  },
  {
   "cell_type": "markdown",
   "metadata": {},
   "source": [
    "```bash\n",
    "Epoch 1 / 15\n",
    "GlobalStep:     5 - [Epoca:   1, Step:     5] loss: 3.291872 - running_loss: 5.589703\n",
    "GlobalStep:    10 - [Epoca:   1, Step:    10] loss: 0.616076 - running_loss: 1.060288\n",
    "GlobalStep:    15 - [Epoca:   1, Step:    15] loss: 0.436508 - running_loss: 0.524524\n",
    "GlobalStep:    20 - [Epoca:   1, Step:    20] loss: 0.369043 - running_loss: 0.382137\n",
    "GlobalStep:    25 - [Epoca:   1, Step:    25] loss: 0.322311 - running_loss: 0.335994\n",
    "GlobalStep:    30 - [Epoca:   1, Step:    30] loss: 0.297578 - running_loss: 0.304243\n",
    "GlobalStep:    35 - [Epoca:   1, Step:    35] loss: 0.275442 - running_loss: 0.285551\n",
    "GlobalStep:    40 - [Epoca:   1, Step:    40] loss: 0.266202 - running_loss: 0.270794\n",
    "GlobalStep:    45 - [Epoca:   1, Step:    45] loss: 0.256326 - running_loss: 0.260599\n",
    "GlobalStep:    50 - [Epoca:   1, Step:    50] loss: 0.250483 - running_loss: 0.253222\n",
    "Epoch 2 / 15\n",
    "GlobalStep:    55 - [Epoca:   2, Step:     5] loss: 0.243846 - running_loss: 0.246194\n",
    "GlobalStep:    60 - [Epoca:   2, Step:    10] loss: 0.237333 - running_loss: 0.241603\n",
    "GlobalStep:    65 - [Epoca:   2, Step:    15] loss: 0.236762 - running_loss: 0.236515\n",
    "GlobalStep:    70 - [Epoca:   2, Step:    20] loss: 0.232816 - running_loss: 0.232820\n",
    "GlobalStep:    75 - [Epoca:   2, Step:    25] loss: 0.228795 - running_loss: 0.229273\n",
    "GlobalStep:    80 - [Epoca:   2, Step:    30] loss: 0.227266 - running_loss: 0.226413\n",
    "GlobalStep:    85 - [Epoca:   2, Step:    35] loss: 0.222102 - running_loss: 0.224242\n",
    "GlobalStep:    90 - [Epoca:   2, Step:    40] loss: 0.221747 - running_loss: 0.222484\n",
    "GlobalStep:    95 - [Epoca:   2, Step:    45] loss: 0.215730 - running_loss: 0.218752\n",
    "GlobalStep:   100 - [Epoca:   2, Step:    50] loss: 0.217544 - running_loss: 0.217708\n",
    "\n",
    "*** *** VALIDATION *** ***\n",
    "GlobalStep:   100 - [Epoca:   2], token_level_accuracy: 0.95\n",
    "*** *** FINISHED VALIDATION *** ***\n",
    "```"
   ]
  },
  {
   "cell_type": "markdown",
   "metadata": {},
   "source": [
    "### Epoch 3-4\n"
   ]
  },
  {
   "cell_type": "markdown",
   "metadata": {},
   "source": [
    "```bash\n",
    "Epoch 3 / 15\n",
    "GlobalStep:   105 - [Epoca:   3, Step:     5] loss: 0.212546 - running_loss: 0.214605\n",
    "GlobalStep:   110 - [Epoca:   3, Step:    10] loss: 0.211798 - running_loss: 0.214626\n",
    "GlobalStep:   115 - [Epoca:   3, Step:    15] loss: 0.212677 - running_loss: 0.210958\n",
    "GlobalStep:   120 - [Epoca:   3, Step:    20] loss: 0.206944 - running_loss: 0.208792\n",
    "GlobalStep:   125 - [Epoca:   3, Step:    25] loss: 0.206073 - running_loss: 0.205892\n",
    "GlobalStep:   130 - [Epoca:   3, Step:    30] loss: 0.203180 - running_loss: 0.203212\n",
    "GlobalStep:   135 - [Epoca:   3, Step:    35] loss: 0.199685 - running_loss: 0.201117\n",
    "GlobalStep:   140 - [Epoca:   3, Step:    40] loss: 0.201904 - running_loss: 0.201637\n",
    "GlobalStep:   145 - [Epoca:   3, Step:    45] loss: 0.199137 - running_loss: 0.198229\n",
    "GlobalStep:   150 - [Epoca:   3, Step:    50] loss: 0.193230 - running_loss: 0.197126\n",
    "Epoch 4 / 15\n",
    "GlobalStep:   155 - [Epoca:   4, Step:     5] loss: 0.190156 - running_loss: 0.193126\n",
    "GlobalStep:   160 - [Epoca:   4, Step:    10] loss: 0.187250 - running_loss: 0.189584\n",
    "GlobalStep:   165 - [Epoca:   4, Step:    15] loss: 0.187397 - running_loss: 0.187176\n",
    "GlobalStep:   170 - [Epoca:   4, Step:    20] loss: 0.184966 - running_loss: 0.185864\n",
    "GlobalStep:   175 - [Epoca:   4, Step:    25] loss: 0.181885 - running_loss: 0.183144\n",
    "GlobalStep:   180 - [Epoca:   4, Step:    30] loss: 0.177766 - running_loss: 0.178601\n",
    "GlobalStep:   185 - [Epoca:   4, Step:    35] loss: 0.173201 - running_loss: 0.176108\n",
    "GlobalStep:   190 - [Epoca:   4, Step:    40] loss: 0.169743 - running_loss: 0.171542\n",
    "GlobalStep:   195 - [Epoca:   4, Step:    45] loss: 0.169678 - running_loss: 0.169429\n",
    "GlobalStep:   200 - [Epoca:   4, Step:    50] loss: 0.163742 - running_loss: 0.165485\n",
    "\n",
    "*** *** VALIDATION *** ***\n",
    "EarlyStopping: validation loss improved...\n",
    "GlobalStep:   200 - [Epoca:   4], token_level_accuracy: 0.96\n",
    "*** *** FINISHED VALIDATION *** ***\n",
    "```"
   ]
  },
  {
   "cell_type": "markdown",
   "metadata": {},
   "source": [
    "### Epoch 5-6"
   ]
  },
  {
   "cell_type": "markdown",
   "metadata": {},
   "source": [
    "```bash\n",
    "Epoch 5 / 15\n",
    "GlobalStep:   205 - [Epoca:   5, Step:     5] loss: 0.158687 - running_loss: 0.160219\n",
    "GlobalStep:   210 - [Epoca:   5, Step:    10] loss: 0.151260 - running_loss: 0.155340\n",
    "GlobalStep:   215 - [Epoca:   5, Step:    15] loss: 0.151051 - running_loss: 0.150713\n",
    "GlobalStep:   220 - [Epoca:   5, Step:    20] loss: 0.146212 - running_loss: 0.144974\n",
    "GlobalStep:   225 - [Epoca:   5, Step:    25] loss: 0.142913 - running_loss: 0.143226\n",
    "GlobalStep:   230 - [Epoca:   5, Step:    30] loss: 0.136085 - running_loss: 0.136102\n",
    "GlobalStep:   235 - [Epoca:   5, Step:    35] loss: 0.130427 - running_loss: 0.131572\n",
    "GlobalStep:   240 - [Epoca:   5, Step:    40] loss: 0.125485 - running_loss: 0.128349\n",
    "GlobalStep:   245 - [Epoca:   5, Step:    45] loss: 0.130286 - running_loss: 0.126534\n",
    "GlobalStep:   250 - [Epoca:   5, Step:    50] loss: 0.125785 - running_loss: 0.124236\n",
    "Epoch 6 / 15\n",
    "GlobalStep:   255 - [Epoca:   6, Step:     5] loss: 0.117224 - running_loss: 0.118392\n",
    "GlobalStep:   260 - [Epoca:   6, Step:    10] loss: 0.114883 - running_loss: 0.115850\n",
    "GlobalStep:   265 - [Epoca:   6, Step:    15] loss: 0.114466 - running_loss: 0.114395\n",
    "GlobalStep:   270 - [Epoca:   6, Step:    20] loss: 0.107684 - running_loss: 0.109710\n",
    "GlobalStep:   275 - [Epoca:   6, Step:    25] loss: 0.107128 - running_loss: 0.111993\n",
    "GlobalStep:   280 - [Epoca:   6, Step:    30] loss: 0.118920 - running_loss: 0.109961\n",
    "GlobalStep:   285 - [Epoca:   6, Step:    35] loss: 0.104785 - running_loss: 0.106415\n",
    "GlobalStep:   290 - [Epoca:   6, Step:    40] loss: 0.103541 - running_loss: 0.104223\n",
    "GlobalStep:   295 - [Epoca:   6, Step:    45] loss: 0.095150 - running_loss: 0.097756\n",
    "GlobalStep:   300 - [Epoca:   6, Step:    50] loss: 0.094385 - running_loss: 0.095199\n",
    "\n",
    "*** *** VALIDATION *** ***\n",
    "EarlyStopping: validation loss improved...\n",
    "GlobalStep:   300 - [Epoca:   6], token_level_accuracy: 0.97\n",
    "*** *** FINISHED VALIDATION *** ***\n",
    "```"
   ]
  },
  {
   "cell_type": "markdown",
   "metadata": {},
   "source": [
    "### Epoch 7-8"
   ]
  },
  {
   "cell_type": "markdown",
   "metadata": {},
   "source": [
    "```bash\n",
    "Epoch 7 / 15\n",
    "GlobalStep:   305 - [Epoca:   7, Step:     5] loss: 0.100622 - running_loss: 0.099334\n",
    "GlobalStep:   310 - [Epoca:   7, Step:    10] loss: 0.090275 - running_loss: 0.092943\n",
    "GlobalStep:   315 - [Epoca:   7, Step:    15] loss: 0.093921 - running_loss: 0.092706\n",
    "GlobalStep:   320 - [Epoca:   7, Step:    20] loss: 0.087382 - running_loss: 0.088904\n",
    "GlobalStep:   325 - [Epoca:   7, Step:    25] loss: 0.090567 - running_loss: 0.090905\n",
    "GlobalStep:   330 - [Epoca:   7, Step:    30] loss: 0.087484 - running_loss: 0.087905\n",
    "GlobalStep:   335 - [Epoca:   7, Step:    35] loss: 0.088359 - running_loss: 0.086241\n",
    "GlobalStep:   340 - [Epoca:   7, Step:    40] loss: 0.086642 - running_loss: 0.087336\n",
    "GlobalStep:   345 - [Epoca:   7, Step:    45] loss: 0.091947 - running_loss: 0.086934\n",
    "GlobalStep:   350 - [Epoca:   7, Step:    50] loss: 0.088669 - running_loss: 0.087065\n",
    "Epoch 8 / 15\n",
    "GlobalStep:   355 - [Epoca:   8, Step:     5] loss: 0.082142 - running_loss: 0.086186\n",
    "GlobalStep:   360 - [Epoca:   8, Step:    10] loss: 0.088356 - running_loss: 0.086180\n",
    "GlobalStep:   365 - [Epoca:   8, Step:    15] loss: 0.085869 - running_loss: 0.085120\n",
    "GlobalStep:   370 - [Epoca:   8, Step:    20] loss: 0.081308 - running_loss: 0.083249\n",
    "GlobalStep:   375 - [Epoca:   8, Step:    25] loss: 0.081671 - running_loss: 0.087019\n",
    "GlobalStep:   380 - [Epoca:   8, Step:    30] loss: 0.084824 - running_loss: 0.085225\n",
    "GlobalStep:   385 - [Epoca:   8, Step:    35] loss: 0.086826 - running_loss: 0.088483\n",
    "GlobalStep:   390 - [Epoca:   8, Step:    40] loss: 0.087517 - running_loss: 0.084090\n",
    "GlobalStep:   395 - [Epoca:   8, Step:    45] loss: 0.080542 - running_loss: 0.084845\n",
    "GlobalStep:   400 - [Epoca:   8, Step:    50] loss: 0.085108 - running_loss: 0.087026\n",
    "\n",
    "*** *** VALIDATION *** ***\n",
    "EarlyStopping: validation loss improved...\n",
    "GlobalStep:   400 - [Epoca:   8], token_level_accuracy: 0.97\n",
    "*** *** FINISHED VALIDATION *** ***\n",
    "```"
   ]
  },
  {
   "cell_type": "markdown",
   "metadata": {},
   "source": [
    "### Epoch 9-10"
   ]
  },
  {
   "cell_type": "markdown",
   "metadata": {},
   "source": [
    "```bash\n",
    "Epoch 9 / 15\n",
    "GlobalStep:   405 - [Epoca:   9, Step:     5] loss: 0.079296 - running_loss: 0.079995\n",
    "GlobalStep:   410 - [Epoca:   9, Step:    10] loss: 0.091262 - running_loss: 0.085354\n",
    "GlobalStep:   415 - [Epoca:   9, Step:    15] loss: 0.082733 - running_loss: 0.084118\n",
    "GlobalStep:   420 - [Epoca:   9, Step:    20] loss: 0.079570 - running_loss: 0.081361\n",
    "GlobalStep:   425 - [Epoca:   9, Step:    25] loss: 0.095243 - running_loss: 0.086529\n",
    "GlobalStep:   430 - [Epoca:   9, Step:    30] loss: 0.080499 - running_loss: 0.082101\n",
    "GlobalStep:   435 - [Epoca:   9, Step:    35] loss: 0.084824 - running_loss: 0.082853\n",
    "GlobalStep:   440 - [Epoca:   9, Step:    40] loss: 0.080839 - running_loss: 0.081749\n",
    "GlobalStep:   445 - [Epoca:   9, Step:    45] loss: 0.083037 - running_loss: 0.083670\n",
    "GlobalStep:   450 - [Epoca:   9, Step:    50] loss: 0.087836 - running_loss: 0.081440\n",
    "Epoch 10 / 15\n",
    "GlobalStep:   455 - [Epoca:  10, Step:     5] loss: 0.082450 - running_loss: 0.083273\n",
    "GlobalStep:   460 - [Epoca:  10, Step:    10] loss: 0.078108 - running_loss: 0.089570\n",
    "GlobalStep:   465 - [Epoca:  10, Step:    15] loss: 0.081883 - running_loss: 0.082396\n",
    "GlobalStep:   470 - [Epoca:  10, Step:    20] loss: 0.077673 - running_loss: 0.080660\n",
    "GlobalStep:   475 - [Epoca:  10, Step:    25] loss: 0.084540 - running_loss: 0.081117\n",
    "GlobalStep:   480 - [Epoca:  10, Step:    30] loss: 0.081111 - running_loss: 0.079237\n",
    "GlobalStep:   485 - [Epoca:  10, Step:    35] loss: 0.078538 - running_loss: 0.080323\n",
    "GlobalStep:   490 - [Epoca:  10, Step:    40] loss: 0.082357 - running_loss: 0.082102\n",
    "GlobalStep:   495 - [Epoca:  10, Step:    45] loss: 0.078674 - running_loss: 0.081039\n",
    "GlobalStep:   500 - [Epoca:  10, Step:    50] loss: 0.078774 - running_loss: 0.080725\n",
    "\n",
    "*** *** VALIDATION *** ***\n",
    "EarlyStopping: validation loss improved...\n",
    "GlobalStep:   500 - [Epoca:  10], token_level_accuracy: 0.97\n",
    "*** *** FINISHED VALIDATION *** ***\n",
    "```"
   ]
  },
  {
   "cell_type": "markdown",
   "metadata": {},
   "source": [
    "### Epoch 11-12"
   ]
  },
  {
   "cell_type": "markdown",
   "metadata": {},
   "source": [
    "```bash\n",
    "Epoch 11 / 15\n",
    "GlobalStep:   505 - [Epoca:  11, Step:     5] loss: 0.079699 - running_loss: 0.078330\n",
    "GlobalStep:   510 - [Epoca:  11, Step:    10] loss: 0.084383 - running_loss: 0.080026\n",
    "GlobalStep:   515 - [Epoca:  11, Step:    15] loss: 0.080564 - running_loss: 0.081327\n",
    "GlobalStep:   520 - [Epoca:  11, Step:    20] loss: 0.076842 - running_loss: 0.078191\n",
    "GlobalStep:   525 - [Epoca:  11, Step:    25] loss: 0.078086 - running_loss: 0.079409\n",
    "GlobalStep:   530 - [Epoca:  11, Step:    30] loss: 0.082698 - running_loss: 0.079479\n",
    "GlobalStep:   535 - [Epoca:  11, Step:    35] loss: 0.077683 - running_loss: 0.078942\n",
    "GlobalStep:   540 - [Epoca:  11, Step:    40] loss: 0.077653 - running_loss: 0.078197\n",
    "GlobalStep:   545 - [Epoca:  11, Step:    45] loss: 0.077866 - running_loss: 0.078926\n",
    "GlobalStep:   550 - [Epoca:  11, Step:    50] loss: 0.078127 - running_loss: 0.079677\n",
    "Epoch 12 / 15\n",
    "GlobalStep:   555 - [Epoca:  12, Step:     5] loss: 0.078322 - running_loss: 0.082362\n",
    "GlobalStep:   560 - [Epoca:  12, Step:    10] loss: 0.080941 - running_loss: 0.081035\n",
    "GlobalStep:   565 - [Epoca:  12, Step:    15] loss: 0.078631 - running_loss: 0.083200\n",
    "GlobalStep:   570 - [Epoca:  12, Step:    20] loss: 0.076713 - running_loss: 0.076875\n",
    "GlobalStep:   575 - [Epoca:  12, Step:    25] loss: 0.077103 - running_loss: 0.077814\n",
    "GlobalStep:   580 - [Epoca:  12, Step:    30] loss: 0.081046 - running_loss: 0.080307\n",
    "GlobalStep:   585 - [Epoca:  12, Step:    35] loss: 0.097356 - running_loss: 0.082430\n",
    "GlobalStep:   590 - [Epoca:  12, Step:    40] loss: 0.079755 - running_loss: 0.079546\n",
    "GlobalStep:   595 - [Epoca:  12, Step:    45] loss: 0.076354 - running_loss: 0.078756\n",
    "GlobalStep:   600 - [Epoca:  12, Step:    50] loss: 0.078935 - running_loss: 0.080056\n",
    "\n",
    "*** *** VALIDATION *** ***\n",
    "EarlyStopping: validation loss NOT improved...\n",
    "GlobalStep:   600 - [Epoca:  12], token_level_accuracy: 0.97\n",
    "*** *** FINISHED VALIDATION *** ***\n",
    "```"
   ]
  },
  {
   "cell_type": "markdown",
   "metadata": {},
   "source": [
    "### Epoch 13-14"
   ]
  },
  {
   "cell_type": "markdown",
   "metadata": {},
   "source": [
    "```bash\n",
    "Epoch 13 / 15\n",
    "GlobalStep:   605 - [Epoca:  13, Step:     5] loss: 0.081468 - running_loss: 0.081704\n",
    "GlobalStep:   610 - [Epoca:  13, Step:    10] loss: 0.076287 - running_loss: 0.078391\n",
    "GlobalStep:   615 - [Epoca:  13, Step:    15] loss: 0.078081 - running_loss: 0.079458\n",
    "GlobalStep:   620 - [Epoca:  13, Step:    20] loss: 0.076229 - running_loss: 0.082262\n",
    "GlobalStep:   625 - [Epoca:  13, Step:    25] loss: 0.076870 - running_loss: 0.076500\n",
    "GlobalStep:   630 - [Epoca:  13, Step:    30] loss: 0.079084 - running_loss: 0.076512\n",
    "GlobalStep:   635 - [Epoca:  13, Step:    35] loss: 0.083837 - running_loss: 0.079273\n",
    "GlobalStep:   640 - [Epoca:  13, Step:    40] loss: 0.078678 - running_loss: 0.080097\n",
    "GlobalStep:   645 - [Epoca:  13, Step:    45] loss: 0.077335 - running_loss: 0.080364\n",
    "GlobalStep:   650 - [Epoca:  13, Step:    50] loss: 0.077137 - running_loss: 0.079465\n",
    "Epoch 14 / 15\n",
    "GlobalStep:   655 - [Epoca:  14, Step:     5] loss: 0.078767 - running_loss: 0.087844\n",
    "GlobalStep:   660 - [Epoca:  14, Step:    10] loss: 0.076412 - running_loss: 0.078645\n",
    "GlobalStep:   665 - [Epoca:  14, Step:    15] loss: 0.079550 - running_loss: 0.078292\n",
    "GlobalStep:   670 - [Epoca:  14, Step:    20] loss: 0.084172 - running_loss: 0.078031\n",
    "GlobalStep:   675 - [Epoca:  14, Step:    25] loss: 0.076342 - running_loss: 0.077504\n",
    "GlobalStep:   680 - [Epoca:  14, Step:    30] loss: 0.076770 - running_loss: 0.083564\n",
    "GlobalStep:   685 - [Epoca:  14, Step:    35] loss: 0.075549 - running_loss: 0.077012\n",
    "GlobalStep:   690 - [Epoca:  14, Step:    40] loss: 0.076731 - running_loss: 0.079966\n",
    "GlobalStep:   695 - [Epoca:  14, Step:    45] loss: 0.075330 - running_loss: 0.076679\n",
    "GlobalStep:   700 - [Epoca:  14, Step:    50] loss: 0.085031 - running_loss: 0.078971\n",
    "\n",
    "*** *** VALIDATION *** ***\n",
    "EarlyStopping: validation loss NOT improved...\n",
    "GlobalStep:   700 - [Epoca:  14], token_level_accuracy: 0.97\n",
    "*** *** FINISHED VALIDATION *** ***\n",
    "\n",
    "Early stopping triggered. Stopping training.\n",
    "Finished training!\n",
    "Model saved!\n",
    "```"
   ]
  },
  {
   "cell_type": "markdown",
   "metadata": {},
   "source": [
    "### Grafico Loss"
   ]
  },
  {
   "attachments": {
    "image.png": {
     "image/png": "[encoded data removed]"
    }
   },
   "cell_type": "markdown",
   "metadata": {},
   "source": [
    "![image.png](attachment:image.png)"
   ]
  }
 ],
 "metadata": {
  "language_info": {
   "name": "python"
  }
 },
 "nbformat": 4,
 "nbformat_minor": 2
}
