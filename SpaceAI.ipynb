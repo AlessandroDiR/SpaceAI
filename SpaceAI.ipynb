{
 "cells": [
  {
   "cell_type": "markdown",
   "metadata": {
    "id": "1FINXtI_RPDZ"
   },
   "source": [
    "# 1. Download dipendenze"
   ]
  },
  {
   "cell_type": "code",
   "execution_count": null,
   "metadata": {
    "colab": {
     "base_uri": "https://localhost:8080/"
    },
    "executionInfo": {
     "elapsed": 173187,
     "status": "ok",
     "timestamp": 1738133168345,
     "user": {
      "displayName": "",
      "userId": ""
     },
     "user_tz": -60
    },
    "id": "jK38Bw2iOXtl",
    "outputId": "def00504-3631-48e7-8391-27736d551ceb"
   },
   "outputs": [],
   "source": [
    "!pip install torchtext==0.17.0\n",
    "!pip install spacy\n",
    "\n",
    "# installing spacy italian language\n",
    "!python -m spacy download it_core_news_sm"
   ]
  },
  {
   "cell_type": "markdown",
   "metadata": {
    "id": "pBkMIvB2R6sJ"
   },
   "source": [
    "# 2. Import"
   ]
  },
  {
   "cell_type": "code",
   "execution_count": null,
   "metadata": {
    "id": "CnE0cr0VLx9s"
   },
   "outputs": [],
   "source": [
    "import torch\n",
    "import torch.nn as nn\n",
    "import pandas as pd\n",
    "from torchtext.data.utils import get_tokenizer\n",
    "from torchtext.vocab import build_vocab_from_iterator\n",
    "import torchtext.transforms as T\n",
    "from torch.utils.data import Dataset\n",
    "from torch import Tensor\n",
    "import matplotlib.pyplot as plt\n",
    "from pathlib import Path\n",
    "import numpy as np\n",
    "\n"
   ]
  },
  {
   "cell_type": "markdown",
   "metadata": {
    "id": "JMxcvRf1N5OV"
   },
   "source": [
    "# 3. Custom Dataset"
   ]
  },
  {
   "cell_type": "code",
   "execution_count": null,
   "metadata": {
    "colab": {
     "base_uri": "https://localhost:8080/"
    },
    "executionInfo": {
     "elapsed": 2473,
     "status": "ok",
     "timestamp": 1738133196055,
     "user": {
      "displayName": "",
      "userId": ""
     },
     "user_tz": -60
    },
    "id": "mdpzS8TzN8Xh",
    "outputId": "340878af-2d00-42af-fdb5-8377a5cd0372"
   },
   "outputs": [],
   "source": [
    "class CustomDataset(Dataset):\n",
    "\n",
    "    def __init__(self, file_path: str):\n",
    "        self.file_path = file_path\n",
    "        self.data = pd.read_csv(file_path)\n",
    "        self.inputs = self.data[\"Input\"].to_list()\n",
    "        self.outputs = self.data.apply(lambda row: f'asset: {row[\"Asset\"]}, start: {row[\"Start\"]}, end: {row[\"End\"]}', axis=1).tolist()\n",
    "\n",
    "        self.tokenizer = get_tokenizer(tokenizer=\"spacy\", language=\"it_core_news_sm\")\n",
    "        self.vocab_specials = [\"<unk>\", \"<pad>\", \"<sos>\", \"<eos>\"]\n",
    "        self.source_vocab = self.__build_vocab__(self.inputs)\n",
    "        self.target_vocab = self.__build_vocab__(self.outputs)\n",
    "\n",
    "        self.source_vocab.set_default_index(self.source_vocab[\"<unk>\"])\n",
    "        self.target_vocab.set_default_index(self.target_vocab[\"<unk>\"])\n",
    "\n",
    "\n",
    "    def __len__(self):\n",
    "        return len(self.data)\n",
    "\n",
    "    def __getitem__(self, index):\n",
    "        # 1. Recupero input e relativo output atteso\n",
    "        source = self.inputs[index]\n",
    "        target = self.outputs[index]\n",
    "\n",
    "        # 2. Trasformazione del testo di input\n",
    "        transformed_input = self.__transform__(source, self.source_vocab)\n",
    "\n",
    "        # 3. Trasformazione dell'output\n",
    "        transformed_output = self.__transform__(target, self.target_vocab)\n",
    "\n",
    "        return {\n",
    "            \"input_ids\": transformed_input,\n",
    "            \"labels\": transformed_output\n",
    "        }\n",
    "\n",
    "    def __yield_tokens__(self, sentences):\n",
    "        for text in sentences:\n",
    "            yield self.tokenizer(text)\n",
    "\n",
    "    def __build_vocab__(self, sentences):\n",
    "        return build_vocab_from_iterator(\n",
    "            iterator=self.__yield_tokens__(sentences),\n",
    "            specials=self.vocab_specials,\n",
    "            special_first=True\n",
    "        )\n",
    "\n",
    "    def __transform__(self, sentence, vocab) -> Tensor:\n",
    "        tokens = self.tokenizer(sentence)\n",
    "        transform_pipeline = T.Sequential(\n",
    "            # Converte le parole nei rispettivi indici del vocabolario\n",
    "            T.VocabTransform(vocab),\n",
    "\n",
    "            # Aggiunge <sos> all'inizio della frase.\n",
    "            # 2 è l'indice che ha il token nel vocabolario (vedi vocab_specials)\n",
    "            T.AddToken(token=2, begin=True),\n",
    "\n",
    "            T.Truncate(max_seq_len=256),\n",
    "\n",
    "            # Aggiunge <eos> alla fine della frase.\n",
    "            # 3 è l'indice che ha il token nel vocabolario (vedi vocab_specials)\n",
    "            T.AddToken(3, begin=False),\n",
    "\n",
    "            # Trasforma in un tensore\n",
    "            T.ToTensor(padding_value=1),\n",
    "\n",
    "            T.PadTransform(max_length=256, pad_value=1))\n",
    "        return transform_pipeline(tokens)\n",
    "\n",
    "    def info(self):\n",
    "        print(\"---------------------------------\")\n",
    "        print(\"Dataset Info\")\n",
    "        print(\"---------------------------------\")\n",
    "        print(f\"Data location:\\t\\\"{self.file_path}\\\"\")\n",
    "        print(f\"Data length:\\t{len(self.data)} records\")\n",
    "        print(f\"Source vocab length:\\t{len(self.source_vocab)} words\")\n",
    "        print(f\"Target vocab length:\\t{len(self.target_vocab)} words\")\n",
    "        print(\"---------------------------------\")\n",
    "        print(\"END Info\")\n",
    "        print(\"---------------------------------\")\n",
    "\n",
    "if __name__ == \"__main__\":\n",
    "    cd = CustomDataset(file_path=\"datasets/train/train.csv\")\n",
    "    cd.info()\n",
    "\n",
    "    for i, cd in enumerate(cd):\n",
    "        if i > 5: break\n",
    "        print(f\"Campione {i}: {cd}\")\n"
   ]
  },
  {
   "cell_type": "markdown",
   "metadata": {
    "id": "8qj4PXdPMVRd"
   },
   "source": [
    "# 4. Model"
   ]
  },
  {
   "cell_type": "code",
   "execution_count": null,
   "metadata": {
    "id": "grluxAwyLKBC"
   },
   "outputs": [],
   "source": [
    "class Encoder(nn.Module):\n",
    "    def __init__(self, input_size, embedding_size, hidden_size, num_layers, p):\n",
    "        super(Encoder, self).__init__()\n",
    "\n",
    "        self.dropout = nn.Dropout(p)\n",
    "        self.embedding = nn.Embedding(input_size, embedding_size)\n",
    "        self.rnn = nn.LSTM(\n",
    "            embedding_size, hidden_size, num_layers, dropout=p, batch_first=True\n",
    "        )\n",
    "\n",
    "    def forward(self, x):\n",
    "        embedded = self.dropout(self.embedding(x))\n",
    "        outputs, (hidden, cell) = self.rnn(embedded)\n",
    "        return hidden, cell\n"
   ]
  },
  {
   "cell_type": "code",
   "execution_count": null,
   "metadata": {
    "id": "XGoBf547L6Xv"
   },
   "outputs": [],
   "source": [
    "class Decoder(nn.Module):\n",
    "    def __init__(self, output_size, embedding_size, hidden_size, num_layers, p):\n",
    "        super(Decoder, self).__init__()\n",
    "\n",
    "        self.dropout = nn.Dropout(p)\n",
    "        self.embedding = nn.Embedding(output_size, embedding_size)\n",
    "        self.rnn = nn.LSTM(embedding_size, hidden_size, num_layers, dropout=p)\n",
    "        self.fc = nn.Linear(hidden_size, output_size)\n",
    "\n",
    "    def forward(self, x, hidden, cell):\n",
    "        x = x.unsqueeze(0)\n",
    "        embedded = self.dropout(self.embedding(x))\n",
    "        outputs, (hidden, cell) = self.rnn(embedded, (hidden, cell))\n",
    "        predictions = self.fc(outputs)\n",
    "\n",
    "        predictions = predictions.squeeze(0)\n",
    "        return predictions, hidden, cell\n"
   ]
  },
  {
   "cell_type": "code",
   "execution_count": null,
   "metadata": {
    "id": "0OsXUb5qMMkp"
   },
   "outputs": [],
   "source": [
    "class SpaceAIModel(nn.Module):\n",
    "    def __init__(self, encoder, decoder, device):\n",
    "        super(SpaceAIModel, self).__init__()\n",
    "\n",
    "        self.encoder = encoder\n",
    "        self.decoder = decoder\n",
    "        self.device = device\n",
    "\n",
    "    def forward(self, source, target, teacher_forcing_ratio=0.5):\n",
    "        target_len = target.shape[1]\n",
    "        batch_size = target.shape[0]\n",
    "        target_vocab_size = self.decoder.fc.out_features\n",
    "\n",
    "        outputs = torch.zeros(target_len, batch_size, target_vocab_size).to(self.device)\n",
    "        hidden, cell = self.encoder(source)\n",
    "        input = target[:, 0]\n",
    "\n",
    "        for t in range(1, target_len):\n",
    "            output, hidden, cell = self.decoder(input, hidden, cell)\n",
    "            outputs[t] = output\n",
    "            best_guess = output.argmax(1)\n",
    "            input = (\n",
    "                target[:, t]\n",
    "                if torch.rand(1).item() < teacher_forcing_ratio\n",
    "                else best_guess\n",
    "            )\n",
    "\n",
    "        return outputs\n"
   ]
  },
  {
   "cell_type": "markdown",
   "metadata": {
    "id": "RqWQdDJ_wqQy"
   },
   "source": [
    "# 5. Metrics"
   ]
  },
  {
   "cell_type": "code",
   "execution_count": null,
   "metadata": {
    "id": "pvH6qbVUwuGN"
   },
   "outputs": [],
   "source": [
    "class Metrics:\n",
    "    def __init__(self, real: np.array, prediction: np.array):\n",
    "        self.real = real\n",
    "        self.prediction = prediction\n",
    "\n",
    "    def token_level_accuracy(self):\n",
    "        correct = 0\n",
    "        total = 0\n",
    "        for pred, real in zip(self.prediction, self.real):\n",
    "            correct += sum(\n",
    "                pred_token == real_token for pred_token, real_token in zip(pred, real)\n",
    "            )\n",
    "            total += len(real)\n",
    "\n",
    "        return correct / total\n"
   ]
  },
  {
   "cell_type": "markdown",
   "metadata": {
    "id": "ZSaXBd_XV6Jv"
   },
   "source": [
    "# 6. Early Stopping"
   ]
  },
  {
   "cell_type": "code",
   "execution_count": null,
   "metadata": {
    "id": "6kh3XDMUV9aC"
   },
   "outputs": [],
   "source": [
    "class EarlyStopping:\n",
    "  def __init__(self, patience=2, delta=0, out_path=\"out\"):\n",
    "    self.patience = patience\n",
    "    self.delta = delta\n",
    "    self.best_model_out_path = out_path\n",
    "    self.counter = 0\n",
    "    self.best_score = None\n",
    "    self.early_stop = False\n",
    "\n",
    "  def __call__(self, val_loss, model):\n",
    "    score = val_loss\n",
    "\n",
    "    if self.best_score is None:\n",
    "      self.best_score = val_loss\n",
    "      self.save_checkpoint(model)\n",
    "    elif score >= self.best_score + self.delta:\n",
    "      # Nessun miglioramento rilevato\n",
    "      print(\"EarlyStopping: validation loss NOT improved...\")\n",
    "      self.counter += 1\n",
    "      if self.counter >= self.patience:\n",
    "        self.early_stop = True\n",
    "    else:\n",
    "      # Miglioramento rilevato, salvo il modello e azzero il contatore\n",
    "      print(\"EarlyStopping: validation loss improved...\")\n",
    "      self.best_score = score\n",
    "      self.save_checkpoint(model)\n",
    "      self.counter = 0\n",
    "\n",
    "  def save_checkpoint(self, model):\n",
    "    torch.save(model.state_dict(), Path(self.best_model_out_path)/\"best_model_sd.pth\")\n",
    "    torch.save(model, Path(self.best_model_out_path)/\"best_model.pth\")\n"
   ]
  },
  {
   "cell_type": "markdown",
   "metadata": {
    "id": "pArMzHsDMio2"
   },
   "source": [
    "# 7. Runner"
   ]
  },
  {
   "cell_type": "code",
   "execution_count": null,
   "metadata": {
    "id": "N-1qEbGbMiCJ"
   },
   "outputs": [],
   "source": [
    "class SpaceAIRunner:\n",
    "    def __init__(\n",
    "        self,\n",
    "        batch_size,\n",
    "        epochs,\n",
    "        source_vocab,\n",
    "        target_vocab,\n",
    "        embedding_size,\n",
    "        hidden_size,\n",
    "        num_layers,\n",
    "        dropout,\n",
    "        lr,\n",
    "    ):\n",
    "        self.batch_size = batch_size\n",
    "        self.epochs = epochs\n",
    "\n",
    "        self.source_vocab = source_vocab\n",
    "        self.target_vocab = target_vocab\n",
    "\n",
    "        self.device = torch.device(\"cuda\" if torch.cuda.is_available() else \"cpu\")\n",
    "        encoder = Encoder(\n",
    "            len(source_vocab), embedding_size, hidden_size, num_layers, dropout\n",
    "        ).to(self.device)\n",
    "        decoder = Decoder(\n",
    "            len(target_vocab), embedding_size, hidden_size, num_layers, dropout\n",
    "        ).to(self.device)\n",
    "\n",
    "        self.net = SpaceAIModel(encoder, decoder, self.device).to(self.device)\n",
    "\n",
    "        self.loss = torch.nn.CrossEntropyLoss()\n",
    "        self.optimizer = torch.optim.Adam(self.net.parameters(), lr=lr)\n",
    "\n",
    "    def train(\n",
    "        self,\n",
    "        train_loader: torch.utils.data.DataLoader,\n",
    "        validation_loader: torch.utils.data.DataLoader,\n",
    "        out_root: str,\n",
    "    ):\n",
    "        out_root = Path(out_root)\n",
    "        if not out_root.exists():\n",
    "            out_root.mkdir()\n",
    "\n",
    "        early_stopping = EarlyStopping(patience=2, delta=0, out_path=out_root)\n",
    "\n",
    "        step_counter = 0\n",
    "        step_monitor = 5\n",
    "        ep_monitor = 2\n",
    "\n",
    "        tr_losses_x, tr_losses_y = [], []\n",
    "        tr_run_losses_x, tr_run_losses_y = [], []\n",
    "        va_losses_x, va_losses_y = [], []\n",
    "\n",
    "        for epoch in range(self.epochs):\n",
    "\n",
    "            if early_stopping.early_stop:\n",
    "                print(\"Early stopping triggered. Stopping training.\")\n",
    "                break\n",
    "\n",
    "            running_loss = 0.0\n",
    "\n",
    "            print(f\"Epoch {epoch + 1} / {self.epochs}\")\n",
    "            for i, data in enumerate(train_loader):\n",
    "                self.net.train()\n",
    "\n",
    "                source, target = data[\"input_ids\"].to(self.device), data[\"labels\"].to(\n",
    "                    self.device\n",
    "                )\n",
    "                outputs = self.net(source, target)\n",
    "\n",
    "                outputs = outputs[1:].reshape(-1, outputs.shape[2])\n",
    "                target = target.T[1:].reshape(-1)\n",
    "\n",
    "                loss = self.loss(outputs, target)\n",
    "\n",
    "                self.optimizer.zero_grad()\n",
    "\n",
    "                loss.backward()\n",
    "\n",
    "                self.optimizer.step()\n",
    "\n",
    "                running_loss += loss.item()\n",
    "\n",
    "                if (i + 1) % step_monitor == 0:\n",
    "                    tr_run_losses_y.append(running_loss / step_monitor)\n",
    "                    tr_run_losses_x.append(step_counter + 1)\n",
    "                    print(\n",
    "                        f\"GlobalStep: {(step_counter + 1):5d} - [Epoca: {epoch + 1:3d}, Step: {i + 1:5d}] loss: {loss.item():.6f} - running_loss: {(running_loss / step_monitor):.6f}\"\n",
    "                    )\n",
    "                    running_loss = 0.0\n",
    "\n",
    "                tr_losses_x.append(step_counter + 1)\n",
    "                tr_losses_y.append(loss.item())\n",
    "                step_counter += 1\n",
    "\n",
    "            if (epoch + 1) % ep_monitor == 0:\n",
    "                print(f\"\\n *** *** VALIDATION *** ***\")\n",
    "\n",
    "                current_va_loss = 0\n",
    "\n",
    "                for i, data in enumerate(validation_loader):\n",
    "                  self.net.eval()\n",
    "                  source, target = data[\"input_ids\"].to(self.device), data[\"labels\"].to(self.device)\n",
    "\n",
    "                  with torch.no_grad():\n",
    "                    outputs = self.net(source, target)\n",
    "\n",
    "                    outputs = outputs[1:].reshape(-1, outputs.shape[2])\n",
    "                    target = target.T[1:].reshape(-1)\n",
    "\n",
    "                    loss += self.loss(outputs, target)\n",
    "                    current_va_loss += loss.item()\n",
    "\n",
    "                current_va_loss /= len(validation_loader)\n",
    "                va_losses_x.append(step_counter)\n",
    "                va_losses_y.append(current_va_loss)\n",
    "\n",
    "                early_stopping(current_va_loss, self.net)\n",
    "\n",
    "                t_accuracy = self.test(validation_loader, use_current_net=True)\n",
    "                print(\n",
    "                    f\"GlobalStep: {step_counter:5d} - [Epoca: {epoch + 1:3d}], token_level_accuracy: {t_accuracy:.2f}\"\n",
    "                )\n",
    "                print(f\"*** *** FINISHED VALIDATION *** ***\\n\")\n",
    "\n",
    "        print(\"Finished training!\")\n",
    "\n",
    "        torch.save(self.net.state_dict(), out_root / \"last_model_sd.pth\")\n",
    "        torch.save(self.net, out_root / \"last_model.pth\")\n",
    "        print(\"Model saved!\")\n",
    "\n",
    "        _, (ax1, ax2) = plt.subplots(1, 2)\n",
    "\n",
    "        ax1.plot(tr_losses_x, tr_losses_y, label=\"Training Loss\")\n",
    "        ax1.plot(tr_run_losses_x, tr_run_losses_y, label=\"Training Running Loss\")\n",
    "        ax1.set_title(\"Training Loss\")\n",
    "\n",
    "        ax2.plot(va_losses_x, va_losses_y, label=\"Validation Loss\")\n",
    "        ax2.set_title(\"Validation Loss\")\n",
    "\n",
    "        ax1.legend()\n",
    "        ax2.legend()\n",
    "        plt.tight_layout()\n",
    "        plt.show()\n",
    "\n",
    "    def test(self, test_loader: torch.utils.data.DataLoader, use_current_net=False, preview=False):\n",
    "        net = self.net\n",
    "        if use_current_net == False:\n",
    "            try:\n",
    "                net.load_state_dict(torch.load(\"out/best_model_sd.pth\"))\n",
    "            except:\n",
    "                print(\"Model not found.\")\n",
    "                return\n",
    "\n",
    "        net.eval()\n",
    "\n",
    "        total_target = []\n",
    "        total_prediction = []\n",
    "\n",
    "        with torch.no_grad():\n",
    "            for i, data in enumerate(test_loader):\n",
    "                source, target = data[\"input_ids\"].to(self.device), data[\"labels\"].to(\n",
    "                    self.device\n",
    "                )\n",
    "                outputs = net(source, target, teacher_forcing_ratio=0)\n",
    "                output_tokens = outputs.argmax(2).T\n",
    "\n",
    "                for i in range(len(source)):\n",
    "                    input_sentence = \" \".join(\n",
    "                        self.source_vocab.lookup_tokens(source[i].tolist())\n",
    "                    )\n",
    "                    target_json = self.target_vocab.lookup_tokens(target[i].tolist())\n",
    "                    predicted_json = self.target_vocab.lookup_tokens(\n",
    "                        output_tokens[i].tolist()\n",
    "                    )\n",
    "\n",
    "                    total_target.append(target_json)\n",
    "                    total_prediction.append(predicted_json)\n",
    "\n",
    "                    if preview:\n",
    "                        print(f\"Input: {input_sentence}\")\n",
    "                        print(f\"Target: {target_json}\")\n",
    "                        print(f\"Prediction: {predicted_json}\")\n",
    "\n",
    "        metrics = Metrics(total_target, total_prediction)\n",
    "        token_level_accuracy = metrics.token_level_accuracy()\n",
    "        return token_level_accuracy\n"
   ]
  },
  {
   "cell_type": "markdown",
   "metadata": {
    "id": "hI1runHeSEHq"
   },
   "source": [
    "# 8. Main"
   ]
  },
  {
   "cell_type": "code",
   "execution_count": null,
   "metadata": {
    "colab": {
     "base_uri": "https://localhost:8080/"
    },
    "executionInfo": {
     "elapsed": 13762,
     "status": "ok",
     "timestamp": 1738133691688,
     "user": {
      "displayName": "",
      "userId": ""
     },
     "user_tz": -60
    },
    "id": "eUUo38sUSMEw",
    "outputId": "48febef7-5b73-4791-92a5-c11359f69606"
   },
   "outputs": [],
   "source": [
    "BATCH_SIZE = 20\n",
    "EPOCHS = 15\n",
    "SHUFFLE = False\n",
    "EMB_DIM = 150\n",
    "HID_DIM = 300\n",
    "N_LAYERS = 2\n",
    "DROPOUT = 0.5\n",
    "TRAIN = True\n",
    "LR = 0.001\n",
    "\n",
    "\n",
    "tr_dataset = CustomDataset(file_path=\"datasets/train/train.csv\")\n",
    "te_dataset = CustomDataset(file_path=\"datasets/test/test.csv\")\n",
    "va_dataset = CustomDataset(file_path=\"datasets/validation/validation.csv\")\n",
    "\n",
    "tr_loader = torch.utils.data.DataLoader(\n",
    "    tr_dataset, batch_size=BATCH_SIZE, shuffle=SHUFFLE\n",
    ")\n",
    "te_loader = torch.utils.data.DataLoader(\n",
    "    te_dataset, batch_size=BATCH_SIZE, shuffle=SHUFFLE\n",
    ")\n",
    "va_loader = torch.utils.data.DataLoader(\n",
    "    va_dataset, batch_size=BATCH_SIZE, shuffle=SHUFFLE\n",
    ")\n",
    "\n",
    "runner = SpaceAIRunner(\n",
    "    batch_size=BATCH_SIZE,\n",
    "    epochs=EPOCHS,\n",
    "    source_vocab=tr_dataset.source_vocab,\n",
    "    target_vocab=tr_dataset.target_vocab,\n",
    "    embedding_size=EMB_DIM,\n",
    "    hidden_size=HID_DIM,\n",
    "    num_layers=N_LAYERS,\n",
    "    dropout=DROPOUT,\n",
    "    lr=LR,\n",
    ")\n",
    "\n",
    "if TRAIN:\n",
    "    runner.train(train_loader=tr_loader, validation_loader=va_loader, out_root=\"out\")\n",
    "else:\n",
    "    print(f\"\\n *** *** TESTING *** ***\")\n",
    "    t_accuracy = runner.test(test_loader=te_loader, preview=True)\n",
    "    print(\"Finished testing!\")\n",
    "    print(f\"token_level_accuracy: {t_accuracy:.2f}\")\n"
   ]
  }
 ],
 "metadata": {
  "accelerator": "GPU",
  "colab": {
   "authorship_tag": "ABX9TyN+uTXR0Q8sP1RCHCTtrzkQ",
   "collapsed_sections": [
    "1FINXtI_RPDZ",
    "pBkMIvB2R6sJ",
    "JMxcvRf1N5OV",
    "8qj4PXdPMVRd",
    "RqWQdDJ_wqQy"
   ],
   "gpuType": "T4",
   "mount_file_id": "1QZP_NZ-IhIkHJolGE4DJFS5z72jRWyLK",
   "provenance": [
    {
     "file_id": "https://github.com/AlessandroDiR/SpaceAI/blob/master/SpaceAI.ipynb",
     "timestamp": 1738133885553
    }
   ]
  },
  "kernelspec": {
   "display_name": "Python 3",
   "name": "python3"
  },
  "language_info": {
   "name": "python"
  }
 },
 "nbformat": 4,
 "nbformat_minor": 0
}
