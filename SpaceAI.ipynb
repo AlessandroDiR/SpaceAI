{
 "cells": [
  {
   "cell_type": "markdown",
   "metadata": {
    "id": "1FINXtI_RPDZ"
   },
   "source": [
    "# 1. Download dipendenze"
   ]
  },
  {
   "cell_type": "markdown",
   "metadata": {},
   "source": [
    "_!! Questa sezione è commentata di default. Se non si possiedono già le dipendenze elencate scommentare le righe necessare e far partire il blocco !!_"
   ]
  },
  {
   "cell_type": "code",
   "execution_count": 4,
   "metadata": {
    "executionInfo": {
     "elapsed": 468,
     "status": "ok",
     "timestamp": 1737560470429,
     "user": {
      "displayName": "Alessandro Di Roma",
      "userId": "14787101213019934812"
     },
     "user_tz": -60
    },
    "id": "jK38Bw2iOXtl"
   },
   "outputs": [],
   "source": [
    "# !pip install torchtext==0.17.0\n",
    "# !pip install spacy\n",
    "\n",
    "## installing spacy italian language\n",
    "# !python -m spacy download it_core_news_sm"
   ]
  },
  {
   "cell_type": "markdown",
   "metadata": {
    "id": "pBkMIvB2R6sJ"
   },
   "source": [
    "# 2. Import"
   ]
  },
  {
   "cell_type": "code",
   "execution_count": 5,
   "metadata": {
    "executionInfo": {
     "elapsed": 3,
     "status": "ok",
     "timestamp": 1737560470429,
     "user": {
      "displayName": "Alessandro Di Roma",
      "userId": "14787101213019934812"
     },
     "user_tz": -60
    },
    "id": "CnE0cr0VLx9s"
   },
   "outputs": [],
   "source": [
    "import torch\n",
    "import torch.nn as nn\n",
    "import pandas as pd\n",
    "from torchtext.data.utils import get_tokenizer\n",
    "from torchtext.vocab import build_vocab_from_iterator\n",
    "import torchtext.transforms as T\n",
    "from torch.utils.data import Dataset\n",
    "from torch import Tensor\n",
    "import matplotlib.pyplot as plt\n",
    "from pathlib import Path\n"
   ]
  },
  {
   "cell_type": "markdown",
   "metadata": {
    "id": "JMxcvRf1N5OV"
   },
   "source": [
    "# 3. Custom Dataset"
   ]
  },
  {
   "cell_type": "code",
   "execution_count": null,
   "metadata": {
    "colab": {
     "base_uri": "https://localhost:8080/"
    },
    "executionInfo": {
     "elapsed": 2389,
     "status": "ok",
     "timestamp": 1737560472815,
     "user": {
      "displayName": "Alessandro Di Roma",
      "userId": "14787101213019934812"
     },
     "user_tz": -60
    },
    "id": "mdpzS8TzN8Xh",
    "outputId": "efdc2cfb-42cf-4fc7-9e59-0a2848f1a345"
   },
   "outputs": [],
   "source": [
    "class CustomDataset(Dataset):\n",
    "\n",
    "    def __init__(self, file_path: str):\n",
    "        self.file_path = file_path\n",
    "        self.data = pd.read_csv(file_path)\n",
    "        self.inputs = self.data[\"Input\"].to_list()\n",
    "        self.outputs = self.data.apply(lambda row: f'asset: {row[\"Asset\"]}, start: {row[\"Start\"]}, end: {row[\"End\"]}', axis=1).tolist()\n",
    "\n",
    "        self.tokenizer = get_tokenizer(tokenizer=\"spacy\", language=\"it_core_news_sm\")\n",
    "        self.vocab_specials = [\"<unk>\", \"<pad>\", \"<sos>\", \"<eos>\"]\n",
    "        self.source_vocab = self.__build_vocab__(self.inputs)\n",
    "        self.target_vocab = self.__build_vocab__(self.outputs)\n",
    "\n",
    "        self.source_vocab.set_default_index(self.source_vocab[\"<unk>\"])\n",
    "        self.target_vocab.set_default_index(self.target_vocab[\"<unk>\"])\n",
    "\n",
    "\n",
    "    def __len__(self):\n",
    "        return len(self.data)\n",
    "\n",
    "    def __getitem__(self, index):\n",
    "        # 1. Recupero input e relativo output atteso\n",
    "        source = self.inputs[index]\n",
    "        target = self.outputs[index]\n",
    "\n",
    "        # 2. Trasformazione del testo di input\n",
    "        transformed_input = self.__transform__(source, self.source_vocab)\n",
    "\n",
    "        # 3. Trasformazione dell'output\n",
    "        transformed_output = self.__transform__(target, self.target_vocab)\n",
    "\n",
    "        return {\n",
    "            \"input_ids\": transformed_input,\n",
    "            \"labels\": transformed_output\n",
    "        }\n",
    "\n",
    "    def __yield_tokens__(self, sentences):\n",
    "        for text in sentences:\n",
    "            yield self.tokenizer(text)\n",
    "\n",
    "    def __build_vocab__(self, sentences):\n",
    "        return build_vocab_from_iterator(\n",
    "            iterator=self.__yield_tokens__(sentences),\n",
    "            specials=self.vocab_specials,\n",
    "            special_first=True\n",
    "        )\n",
    "\n",
    "    def __transform__(self, sentence, vocab) -> Tensor:\n",
    "        tokens = self.tokenizer(sentence)\n",
    "        transform_pipeline = T.Sequential(\n",
    "            # Converte le parole nei rispettivi indici del vocabolario\n",
    "            T.VocabTransform(vocab),\n",
    "\n",
    "            # Aggiunge <sos> all'inizio della frase.\n",
    "            # 2 è l'indice che ha il token nel vocabolario (vedi vocab_specials)\n",
    "            T.AddToken(token=2, begin=True),\n",
    "\n",
    "            T.Truncate(max_seq_len=256),\n",
    "\n",
    "            # Aggiunge <eos> alla fine della frase.\n",
    "            # 3 è l'indice che ha il token nel vocabolario (vedi vocab_specials)\n",
    "            T.AddToken(3, begin=False),\n",
    "\n",
    "            # Trasforma in un tensore\n",
    "            T.ToTensor(padding_value=1),\n",
    "\n",
    "            T.PadTransform(max_length=256, pad_value=1))\n",
    "        return transform_pipeline(tokens)\n",
    "\n",
    "    def info(self):\n",
    "        print(\"---------------------------------\")\n",
    "        print(\"Dataset Info\")\n",
    "        print(\"---------------------------------\")\n",
    "        print(f\"Data location:\\t\\\"{self.file_path}\\\"\")\n",
    "        print(f\"Data length:\\t{len(self.data)} records\")\n",
    "        print(f\"Source vocab length:\\t{len(self.source_vocab)} words\")\n",
    "        print(f\"Target vocab length:\\t{len(self.target_vocab)} words\")\n",
    "        print(\"---------------------------------\")\n",
    "        print(\"END Info\")\n",
    "        print(\"---------------------------------\")\n",
    "\n",
    "if __name__ == \"__main__\":\n",
    "    cd = CustomDataset(file_path=\"datasets/train/train.csv\")\n",
    "    cd.info()\n",
    "\n",
    "    for i, cd in enumerate(cd):\n",
    "        if i > 5: break\n",
    "        print(f\"Campione {i}: {cd}\")\n"
   ]
  },
  {
   "cell_type": "markdown",
   "metadata": {
    "id": "8qj4PXdPMVRd"
   },
   "source": [
    "# 4. Model"
   ]
  },
  {
   "cell_type": "code",
   "execution_count": 7,
   "metadata": {
    "executionInfo": {
     "elapsed": 9,
     "status": "ok",
     "timestamp": 1737560472816,
     "user": {
      "displayName": "Alessandro Di Roma",
      "userId": "14787101213019934812"
     },
     "user_tz": -60
    },
    "id": "grluxAwyLKBC"
   },
   "outputs": [],
   "source": [
    "class Encoder(nn.Module):\n",
    "\n",
    "    def __init__(self, input_size, embedding_size, hidden_size, num_layers, p):\n",
    "        super(Encoder, self).__init__()\n",
    "\n",
    "        self.dropout = nn.Dropout(p)\n",
    "        self.embedding = nn.Embedding(input_size, embedding_size)\n",
    "        self.rnn = nn.LSTM(embedding_size, hidden_size, num_layers, dropout=p, batch_first=True)\n",
    "\n",
    "    def forward(self, x):\n",
    "        embedded = self.dropout(self.embedding(x))\n",
    "        outputs, (hidden, cell) = self.rnn(embedded)\n",
    "        return hidden, cell"
   ]
  },
  {
   "cell_type": "code",
   "execution_count": 8,
   "metadata": {
    "executionInfo": {
     "elapsed": 8,
     "status": "ok",
     "timestamp": 1737560472816,
     "user": {
      "displayName": "Alessandro Di Roma",
      "userId": "14787101213019934812"
     },
     "user_tz": -60
    },
    "id": "XGoBf547L6Xv"
   },
   "outputs": [],
   "source": [
    "class Decoder(nn.Module):\n",
    "\n",
    "    def __init__(self, output_size, embedding_size, hidden_size, num_layers, p):\n",
    "        super(Decoder, self).__init__()\n",
    "\n",
    "        self.dropout = nn.Dropout(p)\n",
    "        self.embedding = nn.Embedding(output_size, embedding_size)\n",
    "        self.rnn = nn.LSTM(embedding_size, hidden_size, num_layers, dropout=p)\n",
    "        self.fc = nn.Linear(hidden_size, output_size)\n",
    "\n",
    "    def forward(self, x, hidden, cell):\n",
    "        x = x.unsqueeze(0)\n",
    "        embedded = self.dropout(self.embedding(x))\n",
    "        outputs, (hidden, cell) = self.rnn(embedded, (hidden, cell))\n",
    "        predictions = self.fc(outputs)\n",
    "\n",
    "        predictions = predictions.squeeze(0)\n",
    "        return predictions, hidden, cell"
   ]
  },
  {
   "cell_type": "code",
   "execution_count": 9,
   "metadata": {
    "executionInfo": {
     "elapsed": 8,
     "status": "ok",
     "timestamp": 1737560472816,
     "user": {
      "displayName": "Alessandro Di Roma",
      "userId": "14787101213019934812"
     },
     "user_tz": -60
    },
    "id": "0OsXUb5qMMkp"
   },
   "outputs": [],
   "source": [
    "class SpaceAIModel(nn.Module):\n",
    "    def __init__(self, encoder, decoder, device):\n",
    "        super(SpaceAIModel, self).__init__()\n",
    "\n",
    "        self.encoder = encoder\n",
    "        self.decoder = decoder\n",
    "        self.device = device\n",
    "\n",
    "    def forward(self, source, target, teacher_forcing_ratio = 0.5):\n",
    "        target_len = target.shape[1]\n",
    "        batch_size = target.shape[0]\n",
    "        target_vocab_size = self.decoder.fc.out_features\n",
    "\n",
    "        outputs = torch.zeros(target_len, batch_size, target_vocab_size).to(self.device)\n",
    "        hidden, cell = self.encoder(source)\n",
    "        input = target[:, 0]\n",
    "\n",
    "        for t in range(1, target_len):\n",
    "            output, hidden, cell = self.decoder(input, hidden, cell)\n",
    "            outputs[t] = output\n",
    "            best_guess = output.argmax(1)\n",
    "            input = target[:, t] if torch.rand(1).item() < teacher_forcing_ratio else best_guess\n",
    "\n",
    "        return outputs"
   ]
  },
  {
   "cell_type": "markdown",
   "metadata": {
    "id": "pArMzHsDMio2"
   },
   "source": [
    "# 5. Runner"
   ]
  },
  {
   "cell_type": "code",
   "execution_count": 14,
   "metadata": {
    "executionInfo": {
     "elapsed": 529,
     "status": "ok",
     "timestamp": 1737560963978,
     "user": {
      "displayName": "Alessandro Di Roma",
      "userId": "14787101213019934812"
     },
     "user_tz": -60
    },
    "id": "N-1qEbGbMiCJ"
   },
   "outputs": [],
   "source": [
    "class SpaceAIRunner:\n",
    "\n",
    "    def __init__(self, batch_size, epochs, source_vocab, target_vocab, embedding_size, hidden_size, num_layers, dropout, lr):\n",
    "        self.batch_size = batch_size\n",
    "        self.epochs = epochs\n",
    "\n",
    "        self.source_vocab = source_vocab\n",
    "        self.target_vocab = target_vocab\n",
    "\n",
    "        self.device = torch.device(\"cuda\" if torch.cuda.is_available() else \"cpu\")\n",
    "        encoder = Encoder(len(source_vocab), embedding_size, hidden_size, num_layers, dropout).to(self.device)\n",
    "        decoder = Decoder(len(target_vocab), embedding_size, hidden_size, num_layers, dropout).to(self.device)\n",
    "\n",
    "        self.net = SpaceAIModel(encoder, decoder, self.device).to(self.device)\n",
    "\n",
    "        self.loss = torch.nn.CrossEntropyLoss()\n",
    "        self.optimizer = torch.optim.Adam(self.net.parameters(), lr=lr)\n",
    "\n",
    "\n",
    "    def train(self, train_loader: torch.utils.data.DataLoader, out_root: str):\n",
    "        out_root = Path(out_root)\n",
    "        if not out_root.exists():\n",
    "          out_root.mkdir()\n",
    "\n",
    "        self.net.train()\n",
    "\n",
    "        step_counter = 0\n",
    "        step_monitor = 5\n",
    "        losses_x, losses_y = [], []\n",
    "        run_losses_x, run_losses_y = [], []\n",
    "\n",
    "        for epoch in range(self.epochs):\n",
    "            running_loss = 0.0\n",
    "\n",
    "            print(f\"Epoch {epoch + 1} / {self.epochs}\")\n",
    "            for i, data in enumerate(train_loader):\n",
    "                source, target = data[\"input_ids\"].to(self.device), data[\"labels\"].to(self.device)\n",
    "                outputs = self.net(source, target)\n",
    "\n",
    "                outputs = outputs[1:].reshape(-1, outputs.shape[2])\n",
    "                target = target.T[1:].reshape(-1)\n",
    "\n",
    "                loss = self.loss(outputs, target)\n",
    "                self.optimizer.zero_grad()\n",
    "                loss.backward()\n",
    "                self.optimizer.step()\n",
    "\n",
    "                running_loss += loss.item()\n",
    "                if (i + 1) % step_monitor == 0:\n",
    "                    run_losses_y.append(running_loss / step_monitor)\n",
    "                    run_losses_x.append(step_counter)\n",
    "                    print(f'GlobalStep: {step_counter:5d} - [Epoca: {epoch + 1:3d}, Step: {i + 1:5d}] loss: {loss.item():.6f} - running_loss: {(running_loss / step_monitor):.6f}')\n",
    "                    running_loss = 0.0\n",
    "\n",
    "                losses_x.append(step_counter)\n",
    "                losses_y.append(loss.item())\n",
    "                step_counter += 1\n",
    "\n",
    "        print(\"Finished training!\")\n",
    "\n",
    "        torch.save(self.net.state_dict(), out_root / \"model_sd.pth\")\n",
    "        torch.save(self.net, out_root / \"model.pth\")\n",
    "        print(\"Model saved!\")\n",
    "\n",
    "        plt.plot(losses_x, losses_y)\n",
    "        plt.plot(run_losses_x, run_losses_y)\n",
    "        plt.show()\n",
    "\n",
    "\n",
    "    def test(self, test_loader: torch.utils.data.DataLoader):\n",
    "      self.net.eval()\n",
    "\n",
    "      try:\n",
    "        self.net.load_state_dict(torch.load(\"out/model_sd.pth\"))\n",
    "      except:\n",
    "        print(\"Model not found.\")\n",
    "        return\n",
    "\n",
    "\n",
    "      with torch.no_grad():\n",
    "        for i, data in enumerate(test_loader):\n",
    "          source, target = data[\"input_ids\"].to(self.device), data[\"labels\"].to(self.device)\n",
    "          outputs = self.net(source, target, teacher_forcing_ratio=0)\n",
    "          output_tokens = outputs.argmax(2).T\n",
    "\n",
    "          for i in range(len(source)):\n",
    "            input_sentence = \" \".join(self.source_vocab.lookup_tokens(source[i].cpu().tolist()))\n",
    "            target_json = self.target_vocab.lookup_tokens(target[i].cpu().tolist())\n",
    "            predicted_json = self.target_vocab.lookup_tokens(output_tokens[i].cpu().tolist())\n",
    "\n",
    "            print(f\"Input: {input_sentence}\")\n",
    "            print(f\"Target: {target_json}\")\n",
    "            print(f\"Predicted: {predicted_json}\")\n",
    "\n",
    "\n"
   ]
  },
  {
   "cell_type": "markdown",
   "metadata": {
    "id": "hI1runHeSEHq"
   },
   "source": [
    "# 6. Let's play"
   ]
  },
  {
   "cell_type": "code",
   "execution_count": null,
   "metadata": {
    "colab": {
     "base_uri": "https://localhost:8080/"
    },
    "id": "eUUo38sUSMEw",
    "outputId": "12a8ca81-865d-4b74-978d-396a9ed4699c"
   },
   "outputs": [],
   "source": [
    "BATCH_SIZE = 100\n",
    "EPOCHS = 10\n",
    "SHUFFLE = False\n",
    "EMB_DIM = 256\n",
    "HID_DIM = 512\n",
    "N_LAYERS = 2\n",
    "DROPOUT = 0.5\n",
    "TRAIN = True\n",
    "LR = 0.001\n",
    "\n",
    "\n",
    "tr_dataset = CustomDataset(file_path=\"datasets/train/train.csv\")\n",
    "te_dataset = CustomDataset(file_path=\"datasets/test/test.csv\")\n",
    "\n",
    "tr_loader = torch.utils.data.DataLoader(tr_dataset, batch_size=BATCH_SIZE, shuffle=SHUFFLE)\n",
    "te_loader = torch.utils.data.DataLoader(te_dataset, batch_size=BATCH_SIZE, shuffle=SHUFFLE)\n",
    "\n",
    "runner = SpaceAIRunner(\n",
    "    batch_size=BATCH_SIZE,\n",
    "    epochs=EPOCHS,\n",
    "    source_vocab=tr_dataset.source_vocab,\n",
    "    target_vocab=tr_dataset.target_vocab,\n",
    "    embedding_size=EMB_DIM,\n",
    "    hidden_size=HID_DIM,\n",
    "    num_layers=N_LAYERS,\n",
    "    dropout=DROPOUT,\n",
    "    lr=LR)\n",
    "\n",
    "if TRAIN:\n",
    "    runner.train(train_loader=tr_loader, out_root=\"out\")\n",
    "else:\n",
    "    runner.test(test_loader=te_loader)\n"
   ]
  }
 ],
 "metadata": {
  "accelerator": "GPU",
  "colab": {
   "authorship_tag": "ABX9TyObJ5mNi1mJnZyrXIAzRObs",
   "collapsed_sections": [
    "JMxcvRf1N5OV",
    "8qj4PXdPMVRd"
   ],
   "gpuType": "T4",
   "mount_file_id": "1QZP_NZ-IhIkHJolGE4DJFS5z72jRWyLK",
   "provenance": []
  },
  "kernelspec": {
   "display_name": "Python 3",
   "name": "python3"
  },
  "language_info": {
   "name": "python"
  }
 },
 "nbformat": 4,
 "nbformat_minor": 0
}
